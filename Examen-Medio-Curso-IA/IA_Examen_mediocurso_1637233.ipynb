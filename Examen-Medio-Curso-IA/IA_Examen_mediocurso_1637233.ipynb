{
  "nbformat": 4,
  "nbformat_minor": 0,
  "metadata": {
    "colab": {
      "name": "Untitled2.ipynb",
      "provenance": [],
      "authorship_tag": "ABX9TyPxW3/POHEnTpEXrGh81MHN",
      "include_colab_link": true
    },
    "kernelspec": {
      "name": "python3",
      "display_name": "Python 3"
    },
    "language_info": {
      "name": "python"
    }
  },
  "cells": [
    {
      "cell_type": "markdown",
      "metadata": {
        "id": "view-in-github",
        "colab_type": "text"
      },
      "source": [
        "<a href=\"https://colab.research.google.com/github/Resignedbrian/InteligenciaArtificialFIMEIB/blob/main/Examen-Medio-Curso-IA/IA_Examen_mediocurso_1637233.ipynb\" target=\"_parent\"><img src=\"https://colab.research.google.com/assets/colab-badge.svg\" alt=\"Open In Colab\"/></a>"
      ]
    },
    {
      "cell_type": "markdown",
      "metadata": {
        "id": "LQTc7g8qAykU"
      },
      "source": [
        "Examen de medio curso\n",
        "Nombre: Bryan antonio Soria Rodriguez\n",
        "Hora clase: Martes N4"
      ]
    },
    {
      "cell_type": "markdown",
      "metadata": {
        "id": "BseOW9WK_KNp"
      },
      "source": [
        "1.1 El usuario dará un número al azar y el código calculará la suma de todos los números desde el 1 hasta el número dado por el usuario.\n",
        "Ejemplo: el usuario dió el número 4, el código deberá de dar como resultado 10."
      ]
    },
    {
      "cell_type": "code",
      "metadata": {
        "colab": {
          "base_uri": "https://localhost:8080/"
        },
        "id": "9nexpkLl_RrR",
        "outputId": "f2b403aa-b1c3-4669-fbbb-abc6c5e9d05b"
      },
      "source": [
        "# Se pide el numero y se declaran las variables a utilizar\n",
        "num = input(\"Ingrese su numero: \") \n",
        "i=1\n",
        "sum = 0\n",
        "# Se abre un ciclo while para que se ejecute mientras que i es menor que el numero dado\n",
        "while i <= int(num) :\n",
        "  sum = sum + i\n",
        "  i = i + 1\n",
        "# Se imprime la suma\n",
        "print(\"La suma de los numeros da: \", sum)"
      ],
      "execution_count": 23,
      "outputs": [
        {
          "output_type": "stream",
          "name": "stdout",
          "text": [
            "Ingrese su numero: 4\n",
            "La suma de los numeros da:  10\n"
          ]
        }
      ]
    },
    {
      "cell_type": "markdown",
      "metadata": {
        "id": "Mh-upk8d_PnK"
      },
      "source": [
        "1.2 Dados el inicio y final de un rango de números, guardar ese rango de números en una lista. Después, imprimir los números que son pares en la lista por medio de uno de los ciclos que vimos en clase. \n",
        "Inicio = 6, final = 31"
      ]
    },
    {
      "cell_type": "code",
      "metadata": {
        "colab": {
          "base_uri": "https://localhost:8080/"
        },
        "id": "JHtq_Xiw_SIe",
        "outputId": "9cb6107e-8354-4faa-8d5d-2b8bddcd9707"
      },
      "source": [
        "# Se piden los valores del rango y se declara una lista vacia\n",
        "min = int(input(\"Ingrese el rango minimo de su lista: \"))\n",
        "max = int(input(\"Ingrese el rango maximo de su lista: \"))\n",
        "Lista = []\n",
        "# Se realiza un ciclo para adjuntar cada valor dentro del rango a la lista\n",
        "while (min <= max):\n",
        "  Lista.append(min)\n",
        "  min = min + 1\n",
        "# Se imprimen los numeros pares de la lista\n",
        "for x in Lista:\n",
        "  if (x%2 == 0):\n",
        "   print(x)"
      ],
      "execution_count": 25,
      "outputs": [
        {
          "output_type": "stream",
          "name": "stdout",
          "text": [
            "Ingrese el rango minimo de su lista: 6\n",
            "Ingrese el rango maximo de su lista: 31\n",
            "6\n",
            "8\n",
            "10\n",
            "12\n",
            "14\n",
            "16\n",
            "18\n",
            "20\n",
            "22\n",
            "24\n",
            "26\n",
            "28\n",
            "30\n"
          ]
        }
      ]
    }
  ]
}