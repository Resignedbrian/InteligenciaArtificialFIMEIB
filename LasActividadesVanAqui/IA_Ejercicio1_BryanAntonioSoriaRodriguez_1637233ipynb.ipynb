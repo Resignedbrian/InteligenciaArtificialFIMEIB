{
  "nbformat": 4,
  "nbformat_minor": 0,
  "metadata": {
    "colab": {
      "name": "IA_Ejercicio1_BryanAntonioSoriaRodriguez_1637233ipynb",
      "provenance": [],
      "collapsed_sections": [],
      "authorship_tag": "ABX9TyP8lI+76nIqbPOgnxV2Whvb",
      "include_colab_link": true
    },
    "kernelspec": {
      "name": "python3",
      "display_name": "Python 3"
    },
    "language_info": {
      "name": "python"
    }
  },
  "cells": [
    {
      "cell_type": "markdown",
      "metadata": {
        "id": "view-in-github",
        "colab_type": "text"
      },
      "source": [
        "<a href=\"https://colab.research.google.com/github/Resignedbrian/InteligenciaArtificialFIMEIB/blob/main/LasActividadesVanAqui/IA_Ejercicio1_BryanAntonioSoriaRodriguez_1637233ipynb.ipynb\" target=\"_parent\"><img src=\"https://colab.research.google.com/assets/colab-badge.svg\" alt=\"Open In Colab\"/></a>"
      ]
    },
    {
      "cell_type": "markdown",
      "metadata": {
        "id": "DF5BZMQRFSIa"
      },
      "source": [
        "Actividad 2.- Ejercicios Introducción Python\n",
        "\nNombre: Bryan antonio Soria Rodriguez\n",
        "Hora clase: Jueves N4"
      ]
    },
    {
      "cell_type": "markdown",
      "metadata": {
        "id": "iaz3oWL4Hdt2"
      },
      "source": [
        "Ejercicio 1:\n",
        "\n",
        "Crear un programa que pregunte al usuario por su nombre, edad, una frase favorita y autor de la frase favorita. El programa deberá de imprimir un mensaje compuesto por el nombre y edad del usuario diciendo que su frase favorita es la que dió anteriormente y el autor de dicha frase es el nombre previamente dado. Aquí habrá que realizar una concatenación de variables."
      ]
    },
    {
      "cell_type": "code",
      "metadata": {
        "colab": {
          "base_uri": "https://localhost:8080/"
        },
        "id": "Wct7Sq0aHmK9",
        "outputId": "c72b28f2-c823-425d-92d5-32d0cf67b4be"
      },
      "source": [
        "print(\"Porfavor ingrese los siguientes datos:\") \n",
        "Name = input(\"Nombre:\")\n",
        "Age = input(\"Edad: \")\n",
        "Frase = input(\"Su frase celebre favorita: \")\n",
        "Autor = input(\"Autor de dicha frase: \")\n",
        "print(Name + Age + Frase + Autor)"
      ],
      "execution_count": 7,
      "outputs": [
        {
          "output_type": "stream",
          "name": "stdout",
          "text": [
            "Porfavor ingrese los siguientes datos:\n",
            "Nombre:Bryan Antonio Soria Rodriguez\n",
            "Edad: 24\n",
            "Su frase celebre favorita: Yo solo se que no se nada\n",
            "Autor de dicha frase: Socrates\n",
            "Bryan Antonio Soria Rodriguez24Yo solo se que no se nadaSocrates\n"
          ]
        }
      ]
    },
    {
      "cell_type": "markdown",
      "metadata": {
        "id": "nQW07QCCHgQA"
      },
      "source": [
        "Ejercicio 2:\n",
        "\n",
        "Crear un programa que le pida al usuario capturar dos números enteros y dos números flotantes. Después, realizará la suma, resta, multiplicación y división, de ambos pares de números. Como resultado se deberán de obtener 8 valores. Imprimir todos estos reultados. "
      ]
    },
    {
      "cell_type": "code",
      "metadata": {
        "colab": {
          "base_uri": "https://localhost:8080/"
        },
        "id": "nVDMirIdL3RL",
        "outputId": "2bd89893-95b7-4932-9eb5-ecc3d932d044"
      },
      "source": [
        "print(\"Ingrese dos numeros enteros:\")\n",
        "E1 = int(input(\"primer numero entero: \"))\n",
        "E2 = int(input(\"segundo numero entero: \"))\n",
        "print(\"Ingrese dos numeros flotantes: \")\n",
        "F1 = float(input(\"primer numero flotante: \"))\n",
        "F2 = float(input(\"segundo numero flotante: \"))\n",
        "print(\"Suma de los numeros flotantes: \", E1+E2)\n",
        "print(\"Resta de los numeros flotantes: \",E1-E2)\n",
        "print(\"division de los numeros flotantes: \",E1/E2)\n",
        "print(\"Multiplicacion de los numeros flotantes: \",E1*E2)\n",
        "print(\"Suma de los numeros flotantes: \",F1+F2)\n",
        "print(\"Resta de los numeros flotantes: \",F1-F2)\n",
        "print(\"Division de los numeros flotantes: \",F1/F2)\n",
        "print(\"Multiplicacion de los numeros flotantes: \",F1*F2)"
      ],
      "execution_count": 28,
      "outputs": [
        {
          "output_type": "stream",
          "name": "stdout",
          "text": [
            "Ingrese dos numeros enteros:\n",
            "primer numero entero: 2\n",
            "segundo numero entero: 4\n",
            "Ingrese dos numeros flotantes: \n",
            "primer numero flotante: 1.5\n",
            "segundo numero flotante: .5\n",
            "Suma de los numeros flotantes:  6\n",
            "Resta de los numeros flotantes:  -2\n",
            "division de los numeros flotantes:  0.5\n",
            "Multiplicacion de los numeros flotantes:  8\n",
            "Suma de los numeros flotantes:  2.0\n",
            "Resta de los numeros flotantes:  1.0\n",
            "Division de los numeros flotantes:  3.0\n",
            "Multiplicacion de los numeros flotantes:  0.75\n"
          ]
        }
      ]
    },
    {
      "cell_type": "markdown",
      "metadata": {
        "id": "ZxPJn01QHjTZ"
      },
      "source": [
        "Ejercicio 3:\n",
        "\n",
        "Crear un programa que evalúe dos expresiones lógicas con `and`, dos con `or` y dos con `not`. Cada expresión deberá hacer uso de operadores de comparación. "
      ]
    },
    {
      "cell_type": "code",
      "metadata": {
        "colab": {
          "base_uri": "https://localhost:8080/"
        },
        "id": "SLuOBVHRhB9-",
        "outputId": "395a8459-fe3c-43e5-ba45-160a50a8aa6d"
      },
      "source": [
        "print(3>4 and 4>3)\n",
        "print(3==3 and 3!=2)\n",
        "print(2>6 or 2>9)\n",
        "print(1>2 or 2>1)\n",
        "print(not(3>4))\n",
        "print(not(3<4))\n"
      ],
      "execution_count": 6,
      "outputs": [
        {
          "output_type": "stream",
          "name": "stdout",
          "text": [
            "False\n",
            "True\n",
            "False\n",
            "True\n",
            "True\n",
            "False\n"
          ]
        }
      ]
    }
  ]
}
