{
  "nbformat": 4,
  "nbformat_minor": 0,
  "metadata": {
    "colab": {
      "name": "Actividad 3.- Ejercicios Introducción Python, 2da parte",
      "provenance": [],
      "authorship_tag": "ABX9TyPfnBU9eDlz7pCgdGFiBTcb",
      "include_colab_link": true
    },
    "kernelspec": {
      "name": "python3",
      "display_name": "Python 3"
    },
    "language_info": {
      "name": "python"
    }
  },
  "cells": [
    {
      "cell_type": "markdown",
      "metadata": {
        "id": "view-in-github",
        "colab_type": "text"
      },
      "source": [
        "<a href=\"https://colab.research.google.com/github/Resignedbrian/InteligenciaArtificialFIMEIB/blob/main/Actividad_3_Ejercicios_Introducci%C3%B3n_Python%2C_2da_parte.ipynb\" target=\"_parent\"><img src=\"https://colab.research.google.com/assets/colab-badge.svg\" alt=\"Open In Colab\"/></a>"
      ]
    },
    {
      "cell_type": "markdown",
      "metadata": {
        "id": "Am-svEmqd4IN"
      },
      "source": [
        "Actividad 3.- Ejercicios Introducción Python, 2da parte\n",
        "\n",
        "Nombre: Bryan antonio Soria Rodriguez\n",
        "\n",
        "Hora clase: Jueves N4"
      ]
    },
    {
      "cell_type": "markdown",
      "metadata": {
        "id": "d9Gn6hD-eGDG"
      },
      "source": [
        "**Ejercicio 1**\n",
        "1.1 Piensa en 7 comidas diferente que te gusten. Implementa un programa que pregunte por las 7 comidas, las almacene en una lista y que posteriermente imprima cada una de ellas utilizando uno de los ciclos comentados en clase.   "
      ]
    },
    {
      "cell_type": "code",
      "metadata": {
        "colab": {
          "base_uri": "https://localhost:8080/"
        },
        "id": "zeZqmk1DerD1",
        "outputId": "9b622d73-710d-4345-ee2a-d57dcae51512"
      },
      "source": [
        "print(\"Ingresa 7 comidas de tu agrado:\")  # Se piden los nombres de las comidas\n",
        "i=1 # se declara la variable de incremento y la lista\n",
        "ListaC = []\n",
        "while i < 8 : # el loop se realiza 7 veces para obtener las 7 comidas\n",
        "  print(\"Comida\", i, \":\")\n",
        "  comida= input()\n",
        "  ListaC.append(comida) #esta funcion anexa la comida obtenida en la lista\n",
        "  i=i+1\n",
        "print(\"Las comidas son:\")  #se imprimen las comidas con el loop for\n",
        "for x in ListaC:\n",
        "  print(x)"
      ],
      "execution_count": 79,
      "outputs": [
        {
          "output_type": "stream",
          "name": "stdout",
          "text": [
            "Ingresa 7 comidas de tu agrado:\n",
            "Comida 1 :\n",
            "CAMPECHANAS\n",
            "Comida 2 :\n",
            "PIZZA\n",
            "Comida 3 :\n",
            "BONELESS\n",
            "Comida 4 :\n",
            "CARNE\n",
            "Comida 5 :\n",
            "HAMBURGUESA\n",
            "Comida 6 :\n",
            "SUSHI\n",
            "Comida 7 :\n",
            "SPAGUETTI\n",
            "Las comidas son:\n",
            "CAMPECHANAS\n",
            "PIZZA\n",
            "BONELESS\n",
            "CARNE\n",
            "HAMBURGUESA\n",
            "SUSHI\n",
            "SPAGUETTI\n"
          ]
        }
      ]
    },
    {
      "cell_type": "markdown",
      "metadata": {
        "id": "HK2M4oLNe4aI"
      },
      "source": [
        "1.2 Modifica el ejercicio 1.1 para que imprima cada una de las comidas favoritas junto con una oracición inicial: \"Una de mis comidas favoritas es [comida1]\""
      ]
    },
    {
      "cell_type": "code",
      "metadata": {
        "colab": {
          "base_uri": "https://localhost:8080/"
        },
        "id": "iG0MHPjWe5T0",
        "outputId": "fc135e86-e9c0-4976-bdaf-7d09b13c73b9"
      },
      "source": [
        "print(\"Ingresa 7 comidas de tu agrado:\") # Se piden los nombres de las comidas\n",
        "i=1 # se declara la variable de incremento y la lista\n",
        "ListaC = []\n",
        "while i < 8 : # el loop se realiza 7 veces para obtener las 7 comidas\n",
        "  print(\"Comida\", i, \":\")\n",
        "  comida= input()\n",
        "  ListaC.append(comida) #esta funcion anexa la comida obtenida en la lista\n",
        "  i=i+1\n",
        "e=1\n",
        "for x in ListaC:\n",
        "  print(\"Mi comida favorita\", e, \" es:\") #este es el mensaje inicial que te dice el orden en que se escribieron las comidas\n",
        "  print(x)\n",
        "  e=e+1"
      ],
      "execution_count": 78,
      "outputs": [
        {
          "output_type": "stream",
          "name": "stdout",
          "text": [
            "Ingresa 7 comidas de tu agrado:\n",
            "Comida 1 :\n",
            "PIZZA\n",
            "Comida 2 :\n",
            "CAMPECHANA\n",
            "Comida 3 :\n",
            "SUSHI\n",
            "Comida 4 :\n",
            "BONELESS\n",
            "Comida 5 :\n",
            "HAMBURGUESA\n",
            "Comida 6 :\n",
            "TACOS\n",
            "Comida 7 :\n",
            "CARNE\n",
            "Mi comida favorita 1  es:\n",
            "PIZZA\n",
            "Mi comida favorita 2  es:\n",
            "CAMPECHANA\n",
            "Mi comida favorita 3  es:\n",
            "SUSHI\n",
            "Mi comida favorita 4  es:\n",
            "BONELESS\n",
            "Mi comida favorita 5  es:\n",
            "HAMBURGUESA\n",
            "Mi comida favorita 6  es:\n",
            "TACOS\n",
            "Mi comida favorita 7  es:\n",
            "CARNE\n"
          ]
        }
      ]
    },
    {
      "cell_type": "markdown",
      "metadata": {
        "id": "KLmEvfp9eQD6"
      },
      "source": [
        "**Ejercicio 2**\n",
        "Crear un juego de piedra, papel o tijera de dos jugadores. El programa preguntará por la opción del jugador 1 y la opción del jugador 2 y dará como resultado quien ganó el juego. "
      ]
    },
    {
      "cell_type": "code",
      "metadata": {
        "colab": {
          "base_uri": "https://localhost:8080/"
        },
        "id": "p5NjSvaXmmN4",
        "outputId": "e3747c26-b226-4cac-9d67-79894a9e1791"
      },
      "source": [
        "print(\"El siguiente programa es un juego de piedra papel o tijera para dos jugadores, las reglas son las siguientes:\")\n",
        "print(\"Cada usuario debera escoger una opcion entre PIEDRA, PAPEL O TIJERA, el ganador se define por las siguientes comparaciones.\")\n",
        "print(\"PIEDRA > TIJERA | PAPEL > PIEDRA | TIJERA > PAPEL\")  # Se imprimen las reglas del juego\n",
        "#Cada jugador da su opcion\n",
        "Us1=input(\"Opcion del usuario 1:\")\n",
        "Us2=input(\"Opcion del usuario 2:\")\n",
        "# Condiciones donde gana el usuario 1\n",
        "if ((Us1 == \"TIJERAS\" and Us2 == \"PAPEL\") or (Us1 == \"PIEDRA\" and Us2 == \"TIJERAS\") or (Us1 == \"PAPEL\" and Us2 == \"PIEDRA\")) :\n",
        "  print(\"El Usuario 1 gana. FELICIDADES!!!\")\n",
        "# Condiciones donde gana el usuario 2\n",
        "elif ((Us2 == \"TIJERAS\" and Us1 == \"PAPEL\") or (Us2 == \"PIEDRA\" and Us1 == \"TIJERAS\") or (Us2 == \"PAPEL\" and Us1 == \"PIEDRA\")) :\n",
        "  print(\"El Usuario 2 gana. FELICIDADES!!!\")\n",
        "# Condiciones que establece un empate\n",
        "elif (Us1 == Us2) :\n",
        "  print(\"EMPATE, NADIE GANO\")\n",
        "#Condicion en caso de que una opcion estuviese mal escrita\n",
        "else :\n",
        "  print(\"Escriba las opciones como se muestran y en mayuscula\")"
      ],
      "execution_count": 77,
      "outputs": [
        {
          "output_type": "stream",
          "name": "stdout",
          "text": [
            "El siguiente programa es un juego de piedra papel o tijera para dos jugadores, las reglas son las siguientes:\n",
            "Cada usuario debera escoger una opcion entre PIEDRA, PAPEL O TIJERA, el ganador se define por las siguientes comparaciones.\n",
            "PIEDRA > TIJERA | PAPEL > PIEDRA | TIJERA > PAPEL\n",
            "Opcion del usuario 1:PAPEL\n",
            "Opcion del usuario 2:PAPEL\n",
            "EMPATE, NADIE GANO\n"
          ]
        }
      ]
    },
    {
      "cell_type": "markdown",
      "metadata": {
        "id": "UEdpF7sYeQVN"
      },
      "source": [
        "**Ejercicio 3**\n",
        "Implementar un programa que imprima el siguiente patron:\n",
        "\n",
        "123456\n",
        "12345\n",
        "1234\n",
        "123\n",
        "12\n",
        "1\n",
        "12\n",
        "123\n",
        "1234\n",
        "12345\n",
        "123456"
      ]
    },
    {
      "cell_type": "code",
      "metadata": {
        "colab": {
          "base_uri": "https://localhost:8080/"
        },
        "id": "r3AmzBqre6qK",
        "outputId": "f5304eed-a2f8-4c7d-9ae6-1a332e61d4c4"
      },
      "source": [
        "#Variables\n",
        "num = (\"123456\")\n",
        "i=6\n",
        "#Loop para imprimpimir la primera seccion hasta el valor de i, este valor decrece cada ciclo para quitar numeros\n",
        "while i > 0:\n",
        "  print(num[:i])\n",
        "  i=i-1\n",
        "#Loop para imprimpimir la segunda seccion hasta el valor de i, este valor aumenta cada ciclo para agregar numeros\n",
        "i=2 # Se declara i desde 2 para no repetir valores\n",
        "while i < 7:\n",
        "  print(num[:i])\n",
        "  i=i+1"
      ],
      "execution_count": 76,
      "outputs": [
        {
          "output_type": "stream",
          "name": "stdout",
          "text": [
            "123456\n",
            "12345\n",
            "1234\n",
            "123\n",
            "12\n",
            "1\n",
            "12\n",
            "123\n",
            "1234\n",
            "12345\n",
            "123456\n"
          ]
        }
      ]
    }
  ]
}